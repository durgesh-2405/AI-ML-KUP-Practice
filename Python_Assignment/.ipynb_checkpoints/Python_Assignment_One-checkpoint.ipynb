{
 "cells": [
  {
   "cell_type": "markdown",
   "metadata": {},
   "source": [
    "## Question 1:  Convert class object to JSON in Python using required packages.\n"
   ]
  },
  {
   "cell_type": "code",
   "execution_count": 7,
   "metadata": {},
   "outputs": [
    {
     "name": "stdout",
     "output_type": "stream",
     "text": [
      "Enter the Employee Id,Employee Name,Employee Designation,Employee Department: 1470,Durgesh Gupta,Intern,Engineering\n",
      "Enter the Employee Id,Employee Name,Employee Designation,Employee Department: 1468,Praanav Bhowmik,Intern,Engineering\n",
      "Enter the Employee Id,Employee Name,Employee Designation,Employee Department: 1451,Tanishka Garg,Intern,Engineering\n",
      "Enter the Employee Id,Employee Name,Employee Designation,Employee Department: 1447,Nikhil Varghese,Intern,Engineering\n",
      "**************************************Class Objects to JSON*****************************************\n",
      "{\"empId\": 1470, \"empName\": \"Durgesh Gupta\", \"empDesignation\": \"Intern\", \"empDepartment\": \"Engineering\"}\n",
      "{\"empId\": 1468, \"empName\": \"Praanav Bhowmik\", \"empDesignation\": \"Intern\", \"empDepartment\": \"Engineering\"}\n",
      "{\"empId\": 1451, \"empName\": \"Tanishka Garg\", \"empDesignation\": \"Intern\", \"empDepartment\": \"Engineering\"}\n",
      "{\"empId\": 1447, \"empName\": \"Nikhil Varghese\", \"empDesignation\": \"Intern\", \"empDepartment\": \"Engineering\"}\n"
     ]
    }
   ],
   "source": [
    "#importing json package\n",
    "import json\n",
    "\n",
    "#Creating a class Employee\n",
    "class Employee:\n",
    "    def __init__(self, empId, empName, empDesignation, empDepartment):\n",
    "        self.empId = empId\n",
    "        self.empName = empName\n",
    "        self.empDesignation = empDesignation\n",
    "        self.empDepartment = empDepartment\n",
    "\n",
    "\n",
    "\n",
    "\n",
    "# Main Function\n",
    "if __name__ == \"__main__\":\n",
    "    \n",
    "    #Taking input from user about the empolyee.\n",
    "    inputEmp1 = input(\"Enter the Employee Id,Employee Name,Employee Designation,Employee Department: \").split(\",\")\n",
    "   \n",
    "    inputEmp2 = input(\"Enter the Employee Id,Employee Name,Employee Designation,Employee Department: \").split(\",\")\n",
    "   \n",
    "    inputEmp3 = input(\"Enter the Employee Id,Employee Name,Employee Designation,Employee Department: \").split(\",\")\n",
    "    \n",
    "    inputEmp4 = input(\"Enter the Employee Id,Employee Name,Employee Designation,Employee Department: \").split(\",\")\n",
    "    \n",
    "    #creating object of Employee Class with defined paramenters\n",
    "    empOne = Employee(int(inputEmp1[0]),inputEmp1[1],inputEmp1[2],inputEmp1[3])\n",
    "    \n",
    "    empTwo = Employee(int(inputEmp2[0]),inputEmp2[1],inputEmp2[2],inputEmp2[3])\n",
    "    \n",
    "    empThree = Employee(int(inputEmp3[0]),inputEmp3[1],inputEmp3[2],inputEmp3[3])\n",
    "    \n",
    "    empFour = Employee(int(inputEmp4[0]),inputEmp4[1],inputEmp4[2],inputEmp4[3])\n",
    "    \n",
    "    #Converting class objects into the JSON format by calling dumps() funciton.\n",
    "    jsonObjectOne = json.dumps(empOne.__dict__)\n",
    "    jsonObjectTwo = json.dumps(empTwo.__dict__)\n",
    "    jsonObjectThree = json.dumps(empThree.__dict__)\n",
    "    jsonObjectFour = json.dumps(empFour.__dict__)\n",
    "    \n",
    "    \n",
    "    #Printing the converted values.\n",
    "    print(\"**************************************Class Objects to JSON*********************************************\")\n",
    "    print(jsonObjectOne)\n",
    "    print(jsonObjectTwo)\n",
    "    print(jsonObjectThree)\n",
    "    print(jsonObjectFour)\n",
    "    \n",
    "        \n"
   ]
  },
  {
   "cell_type": "code",
   "execution_count": 9,
   "metadata": {},
   "outputs": [
    {
     "data": {
      "text/plain": [
       "'{\"empId\": 1470, \"empName\": \"Durgesh Gupta\", \"empDesignation\": \" Intern\", \"empDepartment\": \" Engineering\"}\\n{\"empId\": 1468, \"empName\": \" Praanav Bhowmik\", \"empDesignation\": \"Intern\", \"empDepartment\": \"Engineering\"}\\n{\"empId\": 1451, \"empName\": \"Tanishka Garg\", \"empDesignation\": \"Intern\", \"empDepartment\": \"Engineering\"}\\n{\"empId\": 1447, \"empName\": \"Nikhil Varghese\", \"empDesignation\": \"Intern\", \"empDepartment\": \"Engineering\"}\\n'"
      ]
     },
     "execution_count": 9,
     "metadata": {},
     "output_type": "execute_result"
    }
   ],
   "source": [
    "\"\"\"{\"empId\": 1470, \"empName\": \"Durgesh Gupta\", \"empDesignation\": \" Intern\", \"empDepartment\": \" Engineering\"}\n",
    "{\"empId\": 1468, \"empName\": \" Praanav Bhowmik\", \"empDesignation\": \"Intern\", \"empDepartment\": \"Engineering\"}\n",
    "{\"empId\": 1451, \"empName\": \"Tanishka Garg\", \"empDesignation\": \"Intern\", \"empDepartment\": \"Engineering\"}\n",
    "{\"empId\": 1447, \"empName\": \"Nikhil Varghese\", \"empDesignation\": \"Intern\", \"empDepartment\": \"Engineering\"}\n",
    "\"\"\""
   ]
  },
  {
   "cell_type": "markdown",
   "metadata": {},
   "source": [
    "## Question 2: Convert CSV to JSON using Python using required packages."
   ]
  },
  {
   "cell_type": "code",
   "execution_count": 1,
   "metadata": {},
   "outputs": [],
   "source": [
    "# importing tkinter library to create GUI\n",
    "import tkinter as tk\n",
    "from tkinter import filedialog\n",
    "from tkinter import messagebox\n",
    "#importing json and csv\n",
    "import json\n",
    "import csv\n",
    "\n",
    "#initializing\n",
    "head = tk.Tk()\n",
    "\n",
    "#creating the canvas of the Tool\n",
    "canvas = tk.Canvas(head, width = 500, height = 500, bg= 'light cyan', relief = 'raised')\n",
    "canvas.pack()\n",
    "\n",
    "#creating label heading.\n",
    "labelHead = tk.Label(head, text='\\tCSV TO JSON CONVERTER', bg = 'light cyan')\n",
    "labelHead.config(font=('Arial', 25 ))\n",
    "\n",
    "#determining the window size of heading\n",
    "canvas.create_window(200, 75, window = labelHead)\n",
    "\n",
    "# creating a global dictionary that will store the data read from CSV file.\n",
    "dataDictionary = {}\n",
    "\n",
    "\n",
    "# fuction to select CSV file and read the data.\n",
    "def readFromCSV ():\n",
    "    \n",
    "    pathOfCSV = filedialog.askopenfilename()\n",
    "    with open(pathOfCSV, encoding='utf-8') as csvfile:\n",
    "        readerCSV = csv.DictReader(csvfile)\n",
    "        \n",
    "        for row in readerCSV:\n",
    "            key = row['No.']\n",
    "            dataDictionary[key] = row\n",
    "\n",
    "#creating a button which will call the readFromCSV function.\n",
    "buttonToOpenCSV = tk.Button(text= '  CHOOSE CSV FILE  ', command = readFromCSV, bg='OliveDrab1', fg='black', font=('Arial', 15, 'bold'))\n",
    "canvas.create_window(200, 160, window = buttonToOpenCSV)\n",
    "\n",
    "\n",
    "# function to write the data to the JSON file.\n",
    "def writeToJSON ():\n",
    "    \n",
    "    pathOfJSON = filedialog.asksaveasfilename(defaultextension='.json')\n",
    "    with open(pathOfJSON, 'w', encoding = 'utf-8') as jsonfile:\n",
    "        jsonfile.write(json.dumps(dataDictionary, indent=4))\n",
    "\n",
    "\n",
    "\n",
    "# creating button which will call the writeToJSON function.\n",
    "buttonToSaveJSON = tk.Button(text= '  CONVERT CSV TO JSON  ', command = writeToJSON, bg='OliveDrab1', fg='black', font=('Arial', 15, 'bold'))\n",
    "canvas.create_window(200,210,window = buttonToSaveJSON)\n",
    "\n",
    "# function to quit the application with a warning dialog box.\n",
    "def quitApplication():\n",
    "    warningBox = tk.messagebox.askquestion('Quit Application', 'Are you sure you want to quit.', icon = 'warning')\n",
    "    if warningBox == 'yes':\n",
    "        head.destroy()\n",
    "\n",
    "# creating button to quit the application\n",
    "buttonToQuit = tk.Button(text= '  QUIT APPLICATION  ', command = quitApplication, bg='red', fg='black', font=('Arial', 15, 'bold'))\n",
    "canvas.create_window(200,260,window = buttonToQuit)\n",
    "\n",
    "#to run the tkinter event loop untill the application is closed by the user.            \n",
    "head.mainloop()"
   ]
  },
  {
   "cell_type": "markdown",
   "metadata": {},
   "source": [
    "## Question 3 : Python Program for Binary Search (Recursive and Iterative)."
   ]
  },
  {
   "cell_type": "markdown",
   "metadata": {},
   "source": [
    "### Interative Approach to Implement Binary Search. "
   ]
  },
  {
   "cell_type": "code",
   "execution_count": 55,
   "metadata": {},
   "outputs": [
    {
     "name": "stdout",
     "output_type": "stream",
     "text": [
      "Enter the elements of the list: 8 9 6 5 4 2 3 4 5 7\n",
      "Enter the item to be searched: 9\n",
      "The input list is not sorted. Don't worry We will do that for you.\n",
      "After sorting the list will be:  [2, 3, 4, 4, 5, 5, 6, 7, 8, 9]\n",
      "The Element is present at index: 9\n"
     ]
    }
   ],
   "source": [
    "# function to Implement Binary Search using Iterative Approach.\n",
    "def iterativeBinarySearch(inputList,itemToBeSearched):\n",
    "    \n",
    "    # setting the value of starting index to zero.\n",
    "    startIndex = 0\n",
    "    \n",
    "    # setting the value of end index to the length of array - 1.\n",
    "    endIndex = len(inputList)-1\n",
    "    \n",
    "    # setting the value of mid index to zero.\n",
    "    midIndex=0\n",
    "    \n",
    "    # while loop to iterate over the list. \n",
    "    while (startIndex<=endIndex):\n",
    "        \n",
    "        # defining the midIndex value.\n",
    "        midIndex= (endIndex+startIndex)//2\n",
    "        \n",
    "        # If item to be searched is greater, Then ignore the left half.\n",
    "        if(inputList[midIndex]< itemToBeSearched):\n",
    "            startIndex = midIndex+1\n",
    "            \n",
    "        # If item to be searched is smaller, Then ignore the right half.\n",
    "        elif(inputList[midIndex]> itemToBeSearched):\n",
    "            endIndex = midIndex-1\n",
    "            \n",
    "        \n",
    "        # item is found at the mid , return the index.\n",
    "        else:\n",
    "            return midIndex\n",
    "        \n",
    "    # If the item is not present in the list, then return -1.\n",
    "    return -1\n",
    "            \n",
    "        \n",
    "\n",
    "# Main function. \n",
    "if __name__ == \"__main__\":\n",
    "    \n",
    "    # Taking input list from the user.\n",
    "    inputList = list(map(int,input(\"Enter the elements of the list: \").split( )))\n",
    "    \n",
    "    # Input of element to be searched.\n",
    "    itemToBeSearched= int(input(\"Enter the item to be searched: \"))\n",
    "    \n",
    "    # checking the list is sorted or not.\n",
    "    # if the list is not sorted.\n",
    "    if(inputList != sorted(inputList)):\n",
    "        \n",
    "        print(\"The input list is not sorted. Don't worry We will do that for you.\")\n",
    "        # sorting the list.\n",
    "        inputList.sort()\n",
    "        print(\"After sorting the list will be: \",inputList)\n",
    "        # calling the function iterativeBinarySearchTree.\n",
    "        output = iterativeBinarySearch(inputList,itemToBeSearched)\n",
    "    \n",
    "    #if the list is sorted.\n",
    "    else:\n",
    "        \n",
    "        #calling the function iterativeBinarySearchTree.\n",
    "        output = iterativeBinarySearch(inputList,itemToBeSearched)\n",
    "    \n",
    "    # checking the output.\n",
    "    # if the value of output is -1. Then item is not present in the list.\n",
    "    if(output == -1):\n",
    "        print(\"The Element is not present in the list.\")\n",
    "    \n",
    "    # printing the index at which the element is present.\n",
    "    else:\n",
    "        print(\"The Element is present at index:\", output)\n",
    "        \n",
    "        \n",
    "        \n"
   ]
  },
  {
   "cell_type": "markdown",
   "metadata": {},
   "source": [
    "### Recursive Approach To Implement Binary Search Tree"
   ]
  },
  {
   "cell_type": "code",
   "execution_count": 56,
   "metadata": {},
   "outputs": [
    {
     "name": "stdout",
     "output_type": "stream",
     "text": [
      "Enter the elements of the list: 8 9 6 5 4 2 3 4 5 7\n",
      "Enter the item to be searched: 5\n",
      "The input list is not sorted. Don't worry We will do that for you.\n",
      "After sorting the list will be:  [2, 3, 4, 4, 5, 5, 6, 7, 8, 9]\n",
      "The Element is present at index: 4\n"
     ]
    }
   ],
   "source": [
    "# function to Implement Binary Search using Iterative Approach.\n",
    "def recursiveBinarySearch(inputList,startIndex,endIndex,itemToBeSearched):\n",
    "\n",
    "    \n",
    "    if(endIndex>=startIndex):\n",
    "        \n",
    "        # defining the midIndex value.\n",
    "        midIndex= (endIndex+startIndex)//2\n",
    "        \n",
    "        # If item to be searched is greater, Then item will be in the right subarray.\n",
    "        if(inputList[midIndex]< itemToBeSearched):\n",
    "            return recursiveBinarySearch(inputList,midIndex+1,endIndex,itemToBeSearched)\n",
    "            \n",
    "        # If item to be searched is smaller, Then item will be in the left subarray.\n",
    "        elif(inputList[midIndex]> itemToBeSearched):\n",
    "            endIndex = midIndex-1\n",
    "            return recursiveBinarySearch(inputList,startIndex,midIndex-1,itemToBeSearched)\n",
    "            \n",
    "        \n",
    "        # item is found at the mid , return the index.\n",
    "        else:\n",
    "            return midIndex\n",
    "        \n",
    "    # If the item is not present in the list, then return -1.\n",
    "    return -1\n",
    "            \n",
    "        \n",
    "\n",
    "# Main function. \n",
    "if __name__ == \"__main__\":\n",
    "    \n",
    "    # Taking input list from the user.\n",
    "    inputList = list(map(int,input(\"Enter the elements of the list: \").split( )))\n",
    "    \n",
    "    # Input of element to be searched.\n",
    "    itemToBeSearched= int(input(\"Enter the item to be searched: \"))\n",
    "    \n",
    "    # checking the list is sorted or not.\n",
    "    # if the list is not sorted.\n",
    "    if(inputList != sorted(inputList)):\n",
    "        \n",
    "        print(\"The input list is not sorted. Don't worry We will do that for you.\")\n",
    "        # sorting the list.\n",
    "        inputList.sort()\n",
    "        print(\"After sorting the list will be: \", inputList)\n",
    "        # calling the function iterativeBinarySearchTree.\n",
    "        output = recursiveBinarySearch(inputList,0,len(inputList)-1,itemToBeSearched)\n",
    "    \n",
    "    #if the list is sorted.\n",
    "    else:\n",
    "        \n",
    "        #calling the function iterativeBinarySearchTree.\n",
    "        output = recursiveBinarySearch(inputList,0,len(inputList)-1,itemToBeSearched)\n",
    "    \n",
    "    # checking the output.\n",
    "    # if the value of output is -1. Then item is not present in the list.\n",
    "    if(output == -1):\n",
    "        print(\"The Element is not present in the list.\")\n",
    "    \n",
    "    # printing the index at which the element is present.\n",
    "    else:\n",
    "        print(\"The Element is present at index:\", output)\n"
   ]
  },
  {
   "cell_type": "markdown",
   "metadata": {},
   "source": [
    "## Question 4: Python program to find Indices of Overlapping Substrings. "
   ]
  },
  {
   "cell_type": "code",
   "execution_count": 59,
   "metadata": {},
   "outputs": [
    {
     "name": "stdout",
     "output_type": "stream",
     "text": [
      "Enter the overlapped String: geeksforgeeksforgeeks\n",
      "Entert the pattern: geeksforgeeks\n",
      "[0, 8]\n"
     ]
    }
   ],
   "source": [
    "# Importing the regular expression module.\n",
    "import re\n",
    "\n",
    "# function which will return the list containing the indices at which the substrings are overlapped.\n",
    "def findIndicesOfSubstrings(overlappedString, stringPattern):\n",
    "    \n",
    "    # finding the list of indices using list comprehesion, finditer function, and escape function from re module.\n",
    "    overlappedIndices = [iterator.start() for iterator in re.finditer('(?={0})'.format(re.escape(stringPattern)),overlappedString)]\n",
    "    \n",
    "    #returning the list containing the output indices. \n",
    "    return overlappedIndices\n",
    "\n",
    "# Main function\n",
    "if __name__ == \"__main__\":\n",
    "    \n",
    "    # taking input overlapped string from user.\n",
    "    overlappedString = input(\"Enter the overlapped String: \")\n",
    "    \n",
    "    # taking input pattern string from the user.\n",
    "    stringPattern = input(\"Entert the pattern: \")\n",
    "    \n",
    "    # Checking the input strings.\n",
    "    # if the any of the input string either overlapped or pattern is empty.\n",
    "    # then it will print invalid string.\n",
    "    if(len(overlappedString)== 0 or len(stringPattern)==0):\n",
    "        print(\"Kindly enter valid string..\")\n",
    "    \n",
    "    # if the string is valid.\n",
    "    else:\n",
    "        \n",
    "        # Calling the findIndicesOfSubstrings function\n",
    "        output = findIndicesOfSubstrings(overlappedString, stringPattern)\n",
    "        \n",
    "        #Displaying the output.\n",
    "        print(output)\n",
    "        "
   ]
  },
  {
   "cell_type": "markdown",
   "metadata": {},
   "source": [
    "## Question 5: Python program to count Even and Odd numbers in a List (using Lambda)."
   ]
  },
  {
   "cell_type": "code",
   "execution_count": 66,
   "metadata": {},
   "outputs": [
    {
     "name": "stdout",
     "output_type": "stream",
     "text": [
      "10 21 4 45 66 93 11\n",
      "The count of Even numbers in the list is:  3\n",
      "The count of Odd numbers in the list is:  4\n"
     ]
    }
   ],
   "source": [
    "# function to count the Even and Odd numbers present in the list.\n",
    "def countOfEvenAndOdd(inputList):\n",
    "    \n",
    "    # filtering the list of even numbers from the input list using lambda function.\n",
    "    countOfEven = len(list(filter(lambda element: (element % 2 == 0),inputList)))\n",
    "    \n",
    "    # filtering the list of odd numbers from the input list using lambda function.\n",
    "    countOfOdd = len(list(filter(lambda element: (element % 2 != 0),inputList)))\n",
    "    \n",
    "    # returning a tuple consisting of count of Even and Odd number in the input list.\n",
    "    return countOfEven, countOfOdd\n",
    "\n",
    "# Main Function\n",
    "if __name__ == \"__main__\":\n",
    "    \n",
    "    # taking list as a input from the user.\n",
    "    inputList= list(map(int,input().split( )))\n",
    "    \n",
    "    # checking the input list is valid or not.\n",
    "    # if the length of the list is 0 then it will be in valid.\n",
    "    if(len(inputList)==0):\n",
    "        print(\"List is empty\")\n",
    "        \n",
    "    # if the length of the list is valid.\n",
    "    else:\n",
    "        \n",
    "        # calling the function countOfEvenAndOdd.\n",
    "        countOfEven, countOfOdd = countOfEvenAndOdd(inputList)\n",
    "        \n",
    "        # displaying the output.\n",
    "        print(\"The count of Even numbers in the list is: \", countOfEven)\n",
    "        print(\"The count of Odd numbers in the list is: \", countOfOdd)\n",
    "        "
   ]
  },
  {
   "cell_type": "markdown",
   "metadata": {},
   "source": [
    "## Question 6: Check if two lists have atleast one element common."
   ]
  },
  {
   "cell_type": "code",
   "execution_count": 1,
   "metadata": {},
   "outputs": [
    {
     "name": "stdout",
     "output_type": "stream",
     "text": [
      "Enter the list one\n",
      "Enter the list two\n",
      "Input list is empty.. Kindly enter valid input.\n"
     ]
    }
   ],
   "source": [
    "# function to check for at least one common element in both the list.\n",
    "def checkForCommonElement(inputListOne, inputListTwo):\n",
    "    \n",
    "    # converting both the list into sets.\n",
    "    setOne = set(inputListOne)\n",
    "    setTwo = set(inputListTwo)\n",
    "    \n",
    "    # setting a flag varibale to zero. \n",
    "    commonElement = 0\n",
    "    \n",
    "    # Applying set operator for intersection to check for common element.\n",
    "    # If there is intersection between both the set is not null.\n",
    "    if(setOne & setTwo):\n",
    "        \n",
    "        # then we set flag variable to 1. \n",
    "        commonElement = 1\n",
    "    else:\n",
    "        \n",
    "        # else we keep our flag variable to 0.\n",
    "        commonElement = 0\n",
    "    \n",
    "    \n",
    "    # returning the flag variable.\n",
    "    return commonElement\n",
    "\n",
    "\n",
    "# Main Function\n",
    "if __name__ == \"__main__\":\n",
    "    \n",
    "    \n",
    "    # taking both the  list as input from the user.    \n",
    "    inputListOne = list(map(int,input(\"Enter the list one\").split()))\n",
    "    inputListTwo = list(map(int,input(\"Enter the list two\").split()))\n",
    "    \n",
    "    # validating list.\n",
    "    # if the length of the list is zero.\n",
    "    if(len(inputListOne)==0 or len(inputListTwo)==0):\n",
    "        \n",
    "        # It will print an error message for invalid list.\n",
    "        print(\"Input list is empty.. Kindly enter valid input.\")\n",
    "    \n",
    "    # if the list is valid\n",
    "    else:\n",
    "        \n",
    "        # calling the function checkForCommonElement.\n",
    "        result = checkForCommonElement(inputListOne,inputListTwo)\n",
    "        \n",
    "        # if the result is 1\n",
    "        if(result == 1):\n",
    "            \n",
    "            # it means there exits atleast one common element in both the list.\n",
    "            print(\"There exists atleast a common element in both the list\")\n",
    "        \n",
    "        # if the result is not equal to 1.\n",
    "        else:\n",
    "            \n",
    "            # it means there is no common element in both the list.\n",
    "            print(\"There is no common element in the list\")\n",
    "\n",
    "    \n",
    "        "
   ]
  },
  {
   "cell_type": "markdown",
   "metadata": {},
   "source": [
    "## Question 7: Find the Maximum and Minimum K elements from a list in Tuple."
   ]
  },
  {
   "cell_type": "code",
   "execution_count": 5,
   "metadata": {},
   "outputs": [
    {
     "name": "stdout",
     "output_type": "stream",
     "text": [
      "Enter the elements of tuple.8 9 4 5 3 1 7 2 4\n",
      "Enter the value of k: 2\n",
      "The minimum 2 elements from tuple is (1, 2, 8, 9) \n"
     ]
    }
   ],
   "source": [
    "# funciton defined to find the maximum and minimum k elements from a list. \n",
    "def kMaxAndMinElements(inputTuple,k):\n",
    "    \n",
    "    # converting the input tuple into list to perform operations\n",
    "    tempTuple = list(inputTuple)\n",
    "    \n",
    "    # sortig the list\n",
    "    sortedInput = sorted(tempTuple)\n",
    "    \n",
    "    # we are filtering the k maximum and minimum elements using slicing operations\n",
    "    resultTuple = tuple(sortedInput[:k] + sortedInput[-k:])\n",
    "    \n",
    "    # returning the output tuple.\n",
    "    return resultTuple\n",
    "\n",
    "# Main function\n",
    "if __name__ == \"__main__\":\n",
    "    \n",
    "    # taking the input tuple from user.\n",
    "    inputTuple = tuple(map(int,input(\"Enter the elements of tuple.\").split()))\n",
    "    \n",
    "    # taking input of value of k\n",
    "    valueOfK = int(input(\"Enter the value of k: \"))\n",
    "    \n",
    "    # validating the input tuple.\n",
    "    # if the length of the tuple is zero.\n",
    "    if(len(inputTuple)==0):\n",
    "        \n",
    "        # then an error message will be printed.\n",
    "        print(\"The input is not valid. Kindly enter a valid Input... \")\n",
    "    \n",
    "    # if the input is valid.\n",
    "    else:\n",
    "        \n",
    "        # function kMaxAndMinElements will be called.\n",
    "        output = kMaxAndMinElements(inputTuple,valueOfK)\n",
    "        \n",
    "        # displaying the output.\n",
    "        print(f\"The maximum and minimum {valueOfK} elements from tuple is {output} \")\n",
    "        "
   ]
  },
  {
   "cell_type": "markdown",
   "metadata": {},
   "source": [
    "## Question 8: Convert Key-Value list Dictionary to List of Lists."
   ]
  },
  {
   "cell_type": "code",
   "execution_count": 9,
   "metadata": {},
   "outputs": [
    {
     "name": "stdout",
     "output_type": "stream",
     "text": [
      "Enter the size of dictionary: 1\n",
      "Enter the key.durgesh\n",
      "Enter the list of values.:1 2 3 5 6 4 8 9\n",
      "{'durgesh': [1, 2, 3, 5, 6, 4, 8, 9]}\n",
      "[['durgesh', 1, 2, 3, 5, 6, 4, 8, 9]]\n"
     ]
    }
   ],
   "source": [
    "def convertDictToList(inputDict):\n",
    "    result = [[key] + value for key, value in inputDict.items()]\n",
    "    return result\n",
    "if __name__ == \"__main__\":\n",
    "    numberOfItems = int(input(\"Enter the size of dictionary: \"))\n",
    "    inputDict = {}\n",
    "    if(numberOfItems<=0):\n",
    "        print(\"Invalid Input..\")\n",
    "    else:\n",
    "        for i in range(numberOfItems):\n",
    "            key = input(\"Enter the key.\")\n",
    "            value = list(map(int,input(\"Enter the list of values.:\").split()))\n",
    "            inputDict[key] = value\n",
    "        \n",
    "    output = convertDictToList(inputDict)\n",
    "    print(inputDict)\n",
    "    print(output)"
   ]
  },
  {
   "cell_type": "code",
   "execution_count": null,
   "metadata": {},
   "outputs": [],
   "source": []
  }
 ],
 "metadata": {
  "kernelspec": {
   "display_name": "Python 3",
   "language": "python",
   "name": "python3"
  },
  "language_info": {
   "codemirror_mode": {
    "name": "ipython",
    "version": 3
   },
   "file_extension": ".py",
   "mimetype": "text/x-python",
   "name": "python",
   "nbconvert_exporter": "python",
   "pygments_lexer": "ipython3",
   "version": "3.8.5"
  }
 },
 "nbformat": 4,
 "nbformat_minor": 4
}
