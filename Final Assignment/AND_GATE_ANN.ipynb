{
 "cells": [
  {
   "cell_type": "code",
   "execution_count": 1,
   "metadata": {},
   "outputs": [],
   "source": [
    "# importing neccessary libraries\n",
    "import numpy as np\n",
    "from matplotlib import pyplot as plt"
   ]
  },
  {
   "cell_type": "code",
   "execution_count": 2,
   "metadata": {},
   "outputs": [],
   "source": [
    "# function defined to intialize the parameters of the neural network.\n",
    "def parameterInitialization(inputParameters, hiddenLayerNeurons, outputParameters):\n",
    "    \n",
    "    # intializing weights in the range of 0 and 1.\n",
    "    weightOne = np.random.randn(hiddenLayerNeurons, inputParameters)\n",
    "    weightTwo = np.random.randn(outputParameters, hiddenLayerNeurons)\n",
    "    \n",
    "    # initializing bias unit values to 0.\n",
    "    baisOne = np.zeros((hiddenLayerNeurons,1))\n",
    "    baisTwo = np.zeros((outputParameters,1))\n",
    "    \n",
    "    # storing the parameters in a dictionary\n",
    "    intializedParamenters = {\"wOne\" : weightOne, \"wTwo\": weightTwo, \"bOne\": baisOne, \"bTwo\": baisTwo}\n",
    "    \n",
    "    # returning the parameters\n",
    "    return intializedParamenters"
   ]
  },
  {
   "cell_type": "code",
   "execution_count": 3,
   "metadata": {},
   "outputs": [],
   "source": [
    "# defining activation function.\n",
    "def activation(z):\n",
    "    \n",
    "    # calculating the sigmoid value\n",
    "    sigmoid = 1/(1+ np.exp(z))\n",
    "    \n",
    "    return sigmoid"
   ]
  },
  {
   "cell_type": "code",
   "execution_count": 4,
   "metadata": {},
   "outputs": [],
   "source": [
    "# defining function for forward propogation\n",
    "def forwardPropogation(X, Y, initalizedParameters):\n",
    "    shapeOfX = X.shape[1]\n",
    "    weightOne = initalizedParameters[\"wOne\"]\n",
    "    weightTwo = initalizedParameters[\"wTwo\"]\n",
    "    baisOne = initalizedParameters[\"bOne\"]\n",
    "    baisTwo = initalizedParameters[\"bTwo\"]\n",
    "    \n",
    "    # calculation activation and z values\n",
    "    zOne = np.dot(weightOne, X) + baisOne\n",
    "    aOne = activation(zOne)\n",
    "    zTwo = np.dot(weightTwo, aOne) + baisTwo\n",
    "    aTwo = activation(zTwo)\n",
    "    \n",
    "    # storing the all the values in a cache memory\n",
    "    cacheMemory = (zOne, aOne, weightOne,baisOne, zTwo,aTwo,weightTwo, baisTwo)\n",
    "     \n",
    "    # calculation of the log value\n",
    "    logValue = np.multiply(np.log(aTwo),Y) + np.multiply(np.log(1 - aTwo), (1 - Y))\n",
    "    \n",
    "    # determing the value of the cost function.\n",
    "    costFunction = -np.sum(logValue)/shapeOfX\n",
    "    \n",
    "    # returning all cost, cache and activation value. \n",
    "    return costFunction, cacheMemory, aTwo"
   ]
  },
  {
   "cell_type": "code",
   "execution_count": 5,
   "metadata": {},
   "outputs": [],
   "source": [
    "# defining function for backpropogation.\n",
    "\n",
    "def backwardPropogation(X,Y,cacheMemory):\n",
    "    shapeOfX = X.shape[1]\n",
    "    (zOne, aOne, weightOne,baisOne, zTwo,aTwo,weightTwo, baisTwo) = cacheMemory\n",
    "    \n",
    "    # performing backpropogation\n",
    "    bZTwo = aTwo - Y\n",
    "    bWeightTwo = np.dot(bZTwo, aOne.T)/shapeOfX\n",
    "    bBaisTwo = np.sum(bZTwo, axis = 1, keepdims = True)\n",
    "    \n",
    "    bAOne = np.dot(weightTwo.T, bZTwo)\n",
    "    bZOne = np.multiply(bAOne, aOne *(1- aOne))\n",
    "    bWeightOne = np.dot(bZOne, X.T)/shapeOfX\n",
    "    bBaisOne = np.sum(bZOne, axis = 1, keepdims = True)/shapeOfX\n",
    "    \n",
    "    gradientValues = {\"bZ2\": bZTwo, \"bW2\": bWeightTwo, \"bB2\": bBaisTwo, \n",
    "                      \"bZ1\": bZOne, \"bW1\": bWeightOne, \"bB1\": bBaisOne}\n",
    "    \n",
    "    # returning gradient values\n",
    "    return gradientValues\n",
    "    "
   ]
  },
  {
   "cell_type": "code",
   "execution_count": 6,
   "metadata": {},
   "outputs": [],
   "source": [
    "# defining function to update parameters.\n",
    "def updatingParameters(parameters, gradientValues, leariningRate):\n",
    "    #updating parameters\n",
    "    parameters[\"wOne\"] = parameters[\"wOne\"] - learningRate * gradientValues[\"bW1\"]\n",
    "    parameters[\"wTwo\"] = parameters[\"wTwo\"] - learningRate * gradientValues[\"bW2\"]\n",
    "    parameters[\"bOne\"] = parameters[\"bOne\"] - learningRate * gradientValues[\"bB1\"]\n",
    "    parameters[\"bTwo\"] = parameters[\"bTwo\"] - learningRate * gradientValues[\"bB2\"]\n",
    "    \n",
    "    #returning the updated parameters\n",
    "    return parameters\n",
    "    "
   ]
  },
  {
   "cell_type": "code",
   "execution_count": 7,
   "metadata": {},
   "outputs": [
    {
     "name": "stderr",
     "output_type": "stream",
     "text": [
      "<ipython-input-4-7ce175c52af0>:19: RuntimeWarning: divide by zero encountered in log\n",
      "  logValue = np.multiply(np.log(aTwo),Y) + np.multiply(np.log(1 - aTwo), (1 - Y))\n",
      "<ipython-input-4-7ce175c52af0>:19: RuntimeWarning: invalid value encountered in multiply\n",
      "  logValue = np.multiply(np.log(aTwo),Y) + np.multiply(np.log(1 - aTwo), (1 - Y))\n"
     ]
    },
    {
     "name": "stdout",
     "output_type": "stream",
     "text": [
      "[[1. 1. 1. 1.]]\n"
     ]
    },
    {
     "data": {
      "image/png": "[encoded data removed]",
      "text/plain": [
       "<Figure size 432x288 with 1 Axes>"
      ]
     },
     "metadata": {
      "needs_background": "light"
     },
     "output_type": "display_data"
    }
   ],
   "source": [
    "if __name__ == \"__main__\":\n",
    "    \n",
    "    # defining the X and Y \n",
    "    # model and the AND truth table.\n",
    "    # input of AND gate \n",
    "    X = np.array([[0, 0, 1, 1], [0, 1, 0, 1]]) \n",
    "    # output of AND gate\n",
    "    Y = np.array([[0, 0, 0, 1]])\n",
    "    \n",
    "    # defining the parameters of the model to be trained\n",
    "    # number of neurons in the hidden layer\n",
    "    hiddenLayerNeurons = 2\n",
    "    # number of input features\n",
    "    inputParameters = X.shape[0]\n",
    "    # number of output features\n",
    "    outputParameters = Y.shape[0]\n",
    "    \n",
    "    #calling functions to initalize parameters\n",
    "    parameters = parameterInitialization(inputParameters, hiddenLayerNeurons, outputParameters)\n",
    "    \n",
    "    #declaring epoch and learning rate.\n",
    "    epoch = 100000\n",
    "    learningRate = 0.01\n",
    "    losses = np.zeros((epoch,1))\n",
    "    \n",
    "    #training model\n",
    "    for i in range(epoch):\n",
    "        losses[i,0], cacheMemory , aTwo = forwardPropogation(X, Y, parameters)\n",
    "        gradientValues = backwardPropogation(X,Y,cacheMemory)\n",
    "        parameters = updatingParameters(parameters, gradientValues, learningRate)\n",
    "    \n",
    "    \n",
    "    \n",
    "    # Testing and Making Prediction\n",
    "    X = np.array([[1, 1, 0, 0], [0, 1, 0, 1]])\n",
    "    costValue, _, aTwo = forwardPropogation(X, Y,parameters)\n",
    "    predictedOutput = (aTwo > 0.5) * 1.0\n",
    "    print(predictedOutput)\n",
    "    \n",
    "    # Plotting Curve between Loss and Epochs\n",
    "    plt.figure()\n",
    "    plt.plot(losses)\n",
    "    plt.xlabel(\"Epochs\")\n",
    "    plt.ylabel(\"Loss value\")\n",
    "    plt.show()\n",
    "    \n",
    "    \n",
    "    "
   ]
  },
  {
   "cell_type": "code",
   "execution_count": null,
   "metadata": {},
   "outputs": [],
   "source": []
  },
  {
   "cell_type": "code",
   "execution_count": null,
   "metadata": {},
   "outputs": [],
   "source": []
  },
  {
   "cell_type": "code",
   "execution_count": null,
   "metadata": {},
   "outputs": [],
   "source": []
  },
  {
   "cell_type": "code",
   "execution_count": null,
   "metadata": {},
   "outputs": [],
   "source": []
  }
 ],
 "metadata": {
  "kernelspec": {
   "display_name": "Python 3",
   "language": "python",
   "name": "python3"
  },
  "language_info": {
   "codemirror_mode": {
    "name": "ipython",
    "version": 3
   },
   "file_extension": ".py",
   "mimetype": "text/x-python",
   "name": "python",
   "nbconvert_exporter": "python",
   "pygments_lexer": "ipython3",
   "version": "3.8.5"
  }
 },
 "nbformat": 4,
 "nbformat_minor": 4
}
