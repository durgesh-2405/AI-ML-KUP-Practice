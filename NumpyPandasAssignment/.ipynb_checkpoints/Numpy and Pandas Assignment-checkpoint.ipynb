{
 "cells": [
  {
   "cell_type": "markdown",
   "metadata": {},
   "source": [
    "# Question 1: Replace all odd numbers in arr with -1 without changing arr.\n",
    "\n",
    "***\n",
    "***Input = np.array([0, 1, 2, 3, 4, 5, 6, 7, 8, 9])***\n",
    "\n",
    "***Output = array([ 0, -1,  2, -1,  4, -1,  6, -1,  8, -1])***\n",
    "***\n"
   ]
  },
  {
   "cell_type": "code",
   "execution_count": 30,
   "metadata": {},
   "outputs": [],
   "source": [
    "import numpy as np\n",
    "import pandas as pd"
   ]
  },
  {
   "cell_type": "code",
   "execution_count": 26,
   "metadata": {},
   "outputs": [
    {
     "name": "stdout",
     "output_type": "stream",
     "text": [
      "Enter the array: 0 1 2 3 4 5 6 7 8 9\n",
      "The original array is [0 1 2 3 4 5 6 7 8 9]\n",
      "The replaced array is [ 0 -1  2 -1  4 -1  6 -1  8 -1]\n"
     ]
    }
   ],
   "source": [
    "def replaceOdd(inputArr):\n",
    "    replacedArr = np.where(inputArr % 2 == 1, -1, inputArr)\n",
    "    return replacedArr\n",
    "    \n",
    "if __name__==\"__main__\":\n",
    "    inputArr = np.array(list(map(int,input(\"Enter the array: \").split())))\n",
    "    if(np.size(inputArr)==0):\n",
    "        print(\"Invalid Array\")\n",
    "    else:\n",
    "        result = replaceOdd(inputArr)\n",
    "        print(f\"The original array is {inputArr}\")\n",
    "        print(f\"The replaced array is {result}\")\n",
    "        "
   ]
  },
  {
   "cell_type": "markdown",
   "metadata": {},
   "source": [
    "# Question 2: Get the common items between two python numpy arrays.\n",
    "\n",
    "***\n",
    "***Input1 = np.array([1,2,3,2,3,4,3,4,5,6])***\n",
    "\n",
    "***Input2 = np.array([7,2,10,2,7,4,9,4,9,8])***\n",
    "\n",
    "***Output = array([2, 4])***\n",
    "***\n"
   ]
  },
  {
   "cell_type": "code",
   "execution_count": 9,
   "metadata": {},
   "outputs": [
    {
     "name": "stdout",
     "output_type": "stream",
     "text": [
      "Entert the first array: 1 2 3 4 5 3 8 9 7\n",
      "Enter the second array: 2 3 4 \n",
      "The common elements in both the list is: [2 3 4]\n"
     ]
    }
   ],
   "source": [
    "def getCommonElements(inputArrOne,inputArrTwo):\n",
    "    commonElementArr = np.intersect1d(inputArrOne, inputArrTwo)\n",
    "    return commonElementArr\n",
    "    \n",
    "if __name__==\"__main__\":\n",
    "    inputArrOne = np.array(list(map(int,input(\"Entert the first array: \").split())))\n",
    "    inputArrTwo = np.array(list(map(int,input(\"Enter the second array: \").split())))\n",
    "    \n",
    "    if(np.size(inputArrOne)==0 or np.size(inputArrTwo)==0):\n",
    "        print(\"Array is Empty..Invalid Input\")\n",
    "    else:\n",
    "        result = getCommonElements(inputArrOne,inputArrTwo)\n",
    "        if(np.size(result)==0):\n",
    "            print(\"There is no common element in both the array.\")\n",
    "        else:\n",
    "            print(f\"The common elements in both the list is: {result}\")"
   ]
  },
  {
   "cell_type": "markdown",
   "metadata": {},
   "source": [
    "# Question 3: From array a remove all items present in array b.\n",
    "\n",
    "***\n",
    "***a = np.array([1,2,3,4,5])***\n",
    "\n",
    "***b = np.array([5,6,7,8,9])***\n",
    "\n",
    "***Output = array([1,2,3,4])***\n",
    "***"
   ]
  },
  {
   "cell_type": "code",
   "execution_count": 12,
   "metadata": {},
   "outputs": [
    {
     "name": "stdout",
     "output_type": "stream",
     "text": [
      "Entert the first array: 1 2 3 4 5\n",
      "Enter the second array: 1 2 3 4 5\n",
      "Both array are duplicate of each other\n"
     ]
    }
   ],
   "source": [
    "def removeElements(inputArrOne,inputArrTwo):\n",
    "    outputArr = np.setdiff1d(inputArrOne,inputArrTwo)\n",
    "    return outputArr\n",
    "if __name__==\"__main__\":\n",
    "    inputArrOne = np.array(list(map(int,input(\"Entert the first array: \").split())))\n",
    "    inputArrTwo = np.array(list(map(int,input(\"Enter the second array: \").split())))\n",
    "    \n",
    "    if(np.size(inputArrOne)==0 or np.size(inputArrTwo)==0):\n",
    "        print(\"Array is Empty..Invalid Input\")\n",
    "    else:\n",
    "        result = removeElements(inputArrOne,inputArrTwo)\n",
    "        if(np.size(result)==0):\n",
    "            print(\"Both array are duplicate of each other\")\n",
    "        else:\n",
    "            print(f\"Array after removing the common elements: {result}\")"
   ]
  },
  {
   "cell_type": "markdown",
   "metadata": {},
   "source": [
    "# Question 4: Swap rows 1 and 2 in the array.\n",
    "\n",
    "***\n",
    "***arr = np.arange(9).reshape(3,3)***\n",
    "\n",
    "***arr = np.array([0,1,2,3,4,5,6,7,8]).reshape(3,3)***\n",
    "\n",
    "***The input matrix will be*** \n",
    "\n",
    "**[ [0 1 2]**\n",
    "\n",
    "**[3 4 5]**\n",
    " \n",
    "**[6 7 8] ]**\n",
    "\n",
    "***Enter the rows you want to swap: 1 2***\n",
    "\n",
    "***The matrix after swapping of rows:*** \n",
    "\n",
    "**[ [3 4 5]**\n",
    "\n",
    "**[0 1 2]**\n",
    "\n",
    "**[6 7 8] ]**\n",
    "\n",
    "***\n"
   ]
  },
  {
   "cell_type": "code",
   "execution_count": 33,
   "metadata": {},
   "outputs": [
    {
     "name": "stdout",
     "output_type": "stream",
     "text": [
      "Press 0 to Enter a range \n",
      "Press 1 to Enter the array \n",
      "Enter your choice: 1\n",
      "Enter the array0 1 2 3 4 5 6 7 8 \n",
      "Enter the valid dimensions of the array i.e., M x N == 9: 3 3\n",
      "The matrix is \n",
      "[[0 1 2]\n",
      " [3 4 5]\n",
      " [6 7 8]]\n",
      "Enter the rows you want to swap: 1 2\n",
      "The matrix after swapping of rows: \n",
      "[[3 4 5]\n",
      " [0 1 2]\n",
      " [6 7 8]]\n"
     ]
    }
   ],
   "source": [
    "def swapRows(inputArr):\n",
    "    x,y = map(int,input(\"Enter the rows you want to swap: \").split())\n",
    "    x=x-1\n",
    "    y=y-1\n",
    "    inputArr[[x, y],:]=inputArr[[y, x],:]\n",
    "    return inputArr\n",
    "    \n",
    "if __name__==\"__main__\":\n",
    "    choice = int(input(\"Press 0 to Enter a range \\nPress 1 to Enter the array \\nEnter your choice: \"))\n",
    "    if(choice == 0):\n",
    "        inputRange=int(input(\"Enter the value of range: \"))\n",
    "        m,n = map(int,input(f\"Enter valid dimesion of the array i.e., M x N == {inputRange}: \").split( ))\n",
    "        if(m*n != inputRange):\n",
    "            print(\"Invalid Dimension. \\nEnter a valid dimension..\")\n",
    "        else:\n",
    "            inputArr = np.arange(inputRange).reshape(m,n)\n",
    "            print(f\"The matrix is \\n{inputArr} \")\n",
    "            result = swapRows(inputArr)\n",
    "            print(f\"The matrix after swapping of rows: \\n{result}\")\n",
    "    elif(choice == 1):\n",
    "        inputArr = np.array((list(map(int,input(\"Enter the array\").split()))))\n",
    "        m,n = map(int,input(f\"Enter the valid dimensions of the array i.e., M x N == {np.size(inputArr)}: \").split())\n",
    "        if(m*n != np.size(inputArr)):\n",
    "            print(\"Invalid Dimesion. \\nEnter a valid dimesion...\")\n",
    "        else:\n",
    "            inputArr = inputArr.reshape(m,n)\n",
    "            print(f\"The matrix is \\n{inputArr}\")\n",
    "            result = swapRows(inputArr)\n",
    "            print(f\"The matrix after swapping of rows: \\n{result}\")\n",
    "    else:\n",
    "        print(\"Please enter a valid choice..\")\n",
    "        \n",
    "    "
   ]
  },
  {
   "cell_type": "markdown",
   "metadata": {},
   "source": [
    "# Question 5: Swap column 1 and 2 in the array.\n",
    "\n",
    "***\n",
    "***arr = np.arange(9).reshape(3,3)***\n",
    "\n",
    "***arr = np.array([0,1,2,3,4,5,6,7,8]).reshape(3,3)***\n",
    "\n",
    "***The input matrix will be*** \n",
    "\n",
    "**[ [0 1 2]**\n",
    "\n",
    "**[3 4 5]**\n",
    " \n",
    "**[6 7 8] ]**\n",
    "\n",
    "***Enter the column you want to swap: 1 3***\n",
    "\n",
    "***The matrix after swapping of column:*** \n",
    "\n",
    "**[ [2 1 0]**\n",
    "\n",
    "**[5 4 3]**\n",
    "\n",
    "**[8 7 6] ]**\n",
    "\n",
    "***\n"
   ]
  },
  {
   "cell_type": "code",
   "execution_count": 35,
   "metadata": {},
   "outputs": [
    {
     "name": "stdout",
     "output_type": "stream",
     "text": [
      "Press 0 to Enter a range \n",
      "Press 1 to Enter the array \n",
      "Enter your choice: 0\n",
      "Enter the value of range: 9\n",
      "Enter valid dimesion of the array i.e., M x N == 9: 3 3\n",
      "The matrix is \n",
      "[[0 1 2]\n",
      " [3 4 5]\n",
      " [6 7 8]] \n",
      "Enter the column you want to swap: 1 3\n",
      "The matrix after swapping of column: \n",
      "[[2 1 0]\n",
      " [5 4 3]\n",
      " [8 7 6]]\n"
     ]
    }
   ],
   "source": [
    "def swapColumn(inputArr):\n",
    "    x,y = map(int,input(\"Enter the column you want to swap: \").split())\n",
    "    x=x-1\n",
    "    y=y-1\n",
    "    inputArr[:, [x, y]]=inputArr[:, [y, x]]\n",
    "    return inputArr\n",
    "    \n",
    "if __name__==\"__main__\":\n",
    "    choice = int(input(\"Press 0 to Enter a range \\nPress 1 to Enter the array \\nEnter your choice: \"))\n",
    "    if(choice == 0):\n",
    "        inputRange=int(input(\"Enter the value of range: \"))\n",
    "        m,n = map(int,input(f\"Enter valid dimesion of the array i.e., M x N == {inputRange}: \").split( ))\n",
    "        if(m*n != inputRange):\n",
    "            print(\"Invalid Dimension. \\nEnter a valid dimension..\")\n",
    "        else:\n",
    "            inputArr = np.arange(inputRange).reshape(m,n)\n",
    "            print(f\"The matrix is \\n{inputArr} \")\n",
    "            result = swapColumn(inputArr)\n",
    "            print(f\"The matrix after swapping of column: \\n{result}\")\n",
    "    elif(choice == 1):\n",
    "        inputArr = np.array((list(map(int,input(\"Enter the array\").split()))))\n",
    "        m,n = map(int,input(f\"Enter the valid dimensions of the array i.e., M x N == {np.size(inputArr)}: \").split())\n",
    "        if(m*n != np.size(inputArr)):\n",
    "            print(\"Invalid Dimesion. \\nEnter a valid dimesion...\")\n",
    "        else:\n",
    "            inputArr = inputArr.reshape(m,n)\n",
    "            print(f\"The matrix is \\n{inputArr}\")\n",
    "            result = swapColumn(inputArr)\n",
    "            print(f\"The matrix after swapping of column: \\n{result}\")\n",
    "    else:\n",
    "        print(\"Please enter a valid choice..\")\n",
    "        \n",
    "    "
   ]
  },
  {
   "cell_type": "markdown",
   "metadata": {},
   "source": [
    "# Question 6: \n",
    "# a. Import the iris dataset keeping the text intact.\n",
    "# b. Extract the text column “species” from the 1D iris imported in previous question."
   ]
  },
  {
   "cell_type": "code",
   "execution_count": 29,
   "metadata": {},
   "outputs": [
    {
     "name": "stdout",
     "output_type": "stream",
     "text": [
      "[[b'5.1' b'3.5' b'1.4' b'0.2' b'Iris-setosa']\n",
      " [b'4.9' b'3.0' b'1.4' b'0.2' b'Iris-setosa']\n",
      " [b'4.7' b'3.2' b'1.3' b'0.2' b'Iris-setosa']\n",
      " [b'4.6' b'3.1' b'1.5' b'0.2' b'Iris-setosa']]\n",
      "(150,)\n",
      "[b'Iris-setosa' b'Iris-setosa' b'Iris-setosa' b'Iris-setosa'\n",
      " b'Iris-setosa']\n"
     ]
    },
    {
     "name": "stderr",
     "output_type": "stream",
     "text": [
      "<ipython-input-29-597fef9b2ee7>:6: VisibleDeprecationWarning: Reading unicode strings without specifying the encoding argument is deprecated. Set the encoding, use None for the system default.\n",
      "  iris1D = np.genfromtxt(dataPath, delimiter=',', dtype=None)\n"
     ]
    }
   ],
   "source": [
    "if __name__==\"__main__\":\n",
    "    dataPath = \"iris.data\"\n",
    "    irisData = np.genfromtxt(dataPath, delimiter=',', dtype='object')\n",
    "    print(irisData[:4])\n",
    "    \n",
    "    iris1D = np.genfromtxt(dataPath, delimiter=',', dtype=None)\n",
    "    print(iris1D.shape)\n",
    "    columnSpecies = np.array(row[4] for row in iris1D)\n",
    "    print(species[:5])\n",
    "    #print(output)"
   ]
  },
  {
   "cell_type": "markdown",
   "metadata": {},
   "source": [
    "# Question 7: Handling Missing Data.\n",
    "\n",
    "***\n",
    "***Import the csv data from https://drive.google.com/file/d/1gv82FGnasS5CgDQ1GzORtKtQugq_Mins/view, you will see some missing data.***\n",
    "\n",
    "***a)Find out what percent of the sf_permit dataset is missing***\n",
    "\n",
    "***b)Look at the columns Street Number Suffix and Zipcode from the sf_permits datasets. Both of these contain missing values. Which, if either, of these are missing because they don't exist? Which, if either, are missing because they weren't recorded?***\n",
    "\n",
    "***c)Try removing all the rows from the sf_permits dataset that contain missing values. How many are left?***\n",
    "\n",
    "***d)Now try removing all the columns with empty values. Now how much of your data is left?***\n",
    "\n",
    "***e)Try replacing all the NaN's in the sf_permit data with the one that comes directly after it and then [replace all the remaining na's with 0]***\n",
    "\n",
    "***\n"
   ]
  },
  {
   "cell_type": "code",
   "execution_count": 31,
   "metadata": {},
   "outputs": [
    {
     "name": "stderr",
     "output_type": "stream",
     "text": [
      "/home/knoldus/anaconda3/lib/python3.8/site-packages/IPython/core/interactiveshell.py:3146: DtypeWarning: Columns (22,32) have mixed types.Specify dtype option on import or set low_memory=False.\n",
      "  has_raised = await self.run_ast_nodes(code_ast.body, cell_name,\n"
     ]
    }
   ],
   "source": [
    "sfPermits = pd.read_csv('Building_Permits.csv')\n",
    "np.random.seed(0)"
   ]
  },
  {
   "cell_type": "code",
   "execution_count": 32,
   "metadata": {},
   "outputs": [
    {
     "data": {
      "text/html": [
       "<div>\n",
       "<style scoped>\n",
       "    .dataframe tbody tr th:only-of-type {\n",
       "        vertical-align: middle;\n",
       "    }\n",
       "\n",
       "    .dataframe tbody tr th {\n",
       "        vertical-align: top;\n",
       "    }\n",
       "\n",
       "    .dataframe thead th {\n",
       "        text-align: right;\n",
       "    }\n",
       "</style>\n",
       "<table border=\"1\" class=\"dataframe\">\n",
       "  <thead>\n",
       "    <tr style=\"text-align: right;\">\n",
       "      <th></th>\n",
       "      <th>Permit Number</th>\n",
       "      <th>Permit Type</th>\n",
       "      <th>Permit Type Definition</th>\n",
       "      <th>Permit Creation Date</th>\n",
       "      <th>Block</th>\n",
       "      <th>Lot</th>\n",
       "      <th>Street Number</th>\n",
       "      <th>Street Number Suffix</th>\n",
       "      <th>Street Name</th>\n",
       "      <th>Street Suffix</th>\n",
       "      <th>...</th>\n",
       "      <th>Existing Construction Type</th>\n",
       "      <th>Existing Construction Type Description</th>\n",
       "      <th>Proposed Construction Type</th>\n",
       "      <th>Proposed Construction Type Description</th>\n",
       "      <th>Site Permit</th>\n",
       "      <th>Supervisor District</th>\n",
       "      <th>Neighborhoods - Analysis Boundaries</th>\n",
       "      <th>Zipcode</th>\n",
       "      <th>Location</th>\n",
       "      <th>Record ID</th>\n",
       "    </tr>\n",
       "  </thead>\n",
       "  <tbody>\n",
       "    <tr>\n",
       "      <th>40553</th>\n",
       "      <td>201403039652</td>\n",
       "      <td>8</td>\n",
       "      <td>otc alterations permit</td>\n",
       "      <td>03/03/2014</td>\n",
       "      <td>3732</td>\n",
       "      <td>008</td>\n",
       "      <td>400</td>\n",
       "      <td>NaN</td>\n",
       "      <td>Clementina</td>\n",
       "      <td>St</td>\n",
       "      <td>...</td>\n",
       "      <td>NaN</td>\n",
       "      <td>NaN</td>\n",
       "      <td>1.0</td>\n",
       "      <td>constr type 1</td>\n",
       "      <td>NaN</td>\n",
       "      <td>6.0</td>\n",
       "      <td>South of Market</td>\n",
       "      <td>94103.0</td>\n",
       "      <td>(37.780460571778164, -122.40450626524974)</td>\n",
       "      <td>1334094491645</td>\n",
       "    </tr>\n",
       "    <tr>\n",
       "      <th>169731</th>\n",
       "      <td>201510159735</td>\n",
       "      <td>3</td>\n",
       "      <td>additions alterations or repairs</td>\n",
       "      <td>10/15/2015</td>\n",
       "      <td>2609</td>\n",
       "      <td>028</td>\n",
       "      <td>79</td>\n",
       "      <td>NaN</td>\n",
       "      <td>Buena Vista</td>\n",
       "      <td>Tr</td>\n",
       "      <td>...</td>\n",
       "      <td>5.0</td>\n",
       "      <td>wood frame (5)</td>\n",
       "      <td>5.0</td>\n",
       "      <td>wood frame (5)</td>\n",
       "      <td>NaN</td>\n",
       "      <td>8.0</td>\n",
       "      <td>Castro/Upper Market</td>\n",
       "      <td>94117.0</td>\n",
       "      <td>(37.76757916496494, -122.43793170417105)</td>\n",
       "      <td>1399356139170</td>\n",
       "    </tr>\n",
       "    <tr>\n",
       "      <th>19180</th>\n",
       "      <td>M409787</td>\n",
       "      <td>8</td>\n",
       "      <td>otc alterations permit</td>\n",
       "      <td>07/22/2013</td>\n",
       "      <td>4624</td>\n",
       "      <td>031</td>\n",
       "      <td>178</td>\n",
       "      <td>NaN</td>\n",
       "      <td>West Point</td>\n",
       "      <td>Rd</td>\n",
       "      <td>...</td>\n",
       "      <td>NaN</td>\n",
       "      <td>NaN</td>\n",
       "      <td>NaN</td>\n",
       "      <td>NaN</td>\n",
       "      <td>NaN</td>\n",
       "      <td>10.0</td>\n",
       "      <td>Bayview Hunters Point</td>\n",
       "      <td>94124.0</td>\n",
       "      <td>(37.73524725436046, -122.38063828309745)</td>\n",
       "      <td>1311685491725</td>\n",
       "    </tr>\n",
       "    <tr>\n",
       "      <th>68047</th>\n",
       "      <td>201411191888</td>\n",
       "      <td>8</td>\n",
       "      <td>otc alterations permit</td>\n",
       "      <td>11/19/2014</td>\n",
       "      <td>0039</td>\n",
       "      <td>109</td>\n",
       "      <td>294</td>\n",
       "      <td>NaN</td>\n",
       "      <td>Francisco</td>\n",
       "      <td>St</td>\n",
       "      <td>...</td>\n",
       "      <td>5.0</td>\n",
       "      <td>wood frame (5)</td>\n",
       "      <td>5.0</td>\n",
       "      <td>wood frame (5)</td>\n",
       "      <td>NaN</td>\n",
       "      <td>3.0</td>\n",
       "      <td>North Beach</td>\n",
       "      <td>94133.0</td>\n",
       "      <td>(37.805257822817126, -122.40998545760392)</td>\n",
       "      <td>1362881288870</td>\n",
       "    </tr>\n",
       "    <tr>\n",
       "      <th>64238</th>\n",
       "      <td>M527228</td>\n",
       "      <td>8</td>\n",
       "      <td>otc alterations permit</td>\n",
       "      <td>10/14/2014</td>\n",
       "      <td>1251</td>\n",
       "      <td>002</td>\n",
       "      <td>707</td>\n",
       "      <td>NaN</td>\n",
       "      <td>Cole</td>\n",
       "      <td>St</td>\n",
       "      <td>...</td>\n",
       "      <td>NaN</td>\n",
       "      <td>NaN</td>\n",
       "      <td>NaN</td>\n",
       "      <td>NaN</td>\n",
       "      <td>NaN</td>\n",
       "      <td>5.0</td>\n",
       "      <td>Haight Ashbury</td>\n",
       "      <td>94117.0</td>\n",
       "      <td>(37.76836885973765, -122.45074431487859)</td>\n",
       "      <td>135886493776</td>\n",
       "    </tr>\n",
       "  </tbody>\n",
       "</table>\n",
       "<p>5 rows × 43 columns</p>\n",
       "</div>"
      ],
      "text/plain": [
       "       Permit Number  Permit Type            Permit Type Definition  \\\n",
       "40553   201403039652            8            otc alterations permit   \n",
       "169731  201510159735            3  additions alterations or repairs   \n",
       "19180        M409787            8            otc alterations permit   \n",
       "68047   201411191888            8            otc alterations permit   \n",
       "64238        M527228            8            otc alterations permit   \n",
       "\n",
       "       Permit Creation Date Block  Lot  Street Number Street Number Suffix  \\\n",
       "40553            03/03/2014  3732  008            400                  NaN   \n",
       "169731           10/15/2015  2609  028             79                  NaN   \n",
       "19180            07/22/2013  4624  031            178                  NaN   \n",
       "68047            11/19/2014  0039  109            294                  NaN   \n",
       "64238            10/14/2014  1251  002            707                  NaN   \n",
       "\n",
       "        Street Name Street Suffix  ...  Existing Construction Type  \\\n",
       "40553    Clementina            St  ...                         NaN   \n",
       "169731  Buena Vista            Tr  ...                         5.0   \n",
       "19180    West Point            Rd  ...                         NaN   \n",
       "68047     Francisco            St  ...                         5.0   \n",
       "64238          Cole            St  ...                         NaN   \n",
       "\n",
       "       Existing Construction Type Description Proposed Construction Type  \\\n",
       "40553                                     NaN                        1.0   \n",
       "169731                         wood frame (5)                        5.0   \n",
       "19180                                     NaN                        NaN   \n",
       "68047                          wood frame (5)                        5.0   \n",
       "64238                                     NaN                        NaN   \n",
       "\n",
       "       Proposed Construction Type Description Site Permit Supervisor District  \\\n",
       "40553                           constr type 1         NaN                 6.0   \n",
       "169731                         wood frame (5)         NaN                 8.0   \n",
       "19180                                     NaN         NaN                10.0   \n",
       "68047                          wood frame (5)         NaN                 3.0   \n",
       "64238                                     NaN         NaN                 5.0   \n",
       "\n",
       "       Neighborhoods - Analysis Boundaries  Zipcode  \\\n",
       "40553                      South of Market  94103.0   \n",
       "169731                 Castro/Upper Market  94117.0   \n",
       "19180                Bayview Hunters Point  94124.0   \n",
       "68047                          North Beach  94133.0   \n",
       "64238                       Haight Ashbury  94117.0   \n",
       "\n",
       "                                         Location      Record ID  \n",
       "40553   (37.780460571778164, -122.40450626524974)  1334094491645  \n",
       "169731   (37.76757916496494, -122.43793170417105)  1399356139170  \n",
       "19180    (37.73524725436046, -122.38063828309745)  1311685491725  \n",
       "68047   (37.805257822817126, -122.40998545760392)  1362881288870  \n",
       "64238    (37.76836885973765, -122.45074431487859)   135886493776  \n",
       "\n",
       "[5 rows x 43 columns]"
      ]
     },
     "execution_count": 32,
     "metadata": {},
     "output_type": "execute_result"
    }
   ],
   "source": [
    "sfPermits.sample(5)"
   ]
  },
  {
   "cell_type": "markdown",
   "metadata": {},
   "source": [
    "## Percentage of missing data in San Francisco Buildings DataSet"
   ]
  },
  {
   "cell_type": "code",
   "execution_count": null,
   "metadata": {},
   "outputs": [],
   "source": [
    "# calculating total number of cells in the dataframe.\n",
    "totalNoCells = np.product(sfPermits.shape)\n",
    "\n"
   ]
  }
 ],
 "metadata": {
  "kernelspec": {
   "display_name": "Python 3",
   "language": "python",
   "name": "python3"
  },
  "language_info": {
   "codemirror_mode": {
    "name": "ipython",
    "version": 3
   },
   "file_extension": ".py",
   "mimetype": "text/x-python",
   "name": "python",
   "nbconvert_exporter": "python",
   "pygments_lexer": "ipython3",
   "version": "3.8.5"
  }
 },
 "nbformat": 4,
 "nbformat_minor": 4
}
